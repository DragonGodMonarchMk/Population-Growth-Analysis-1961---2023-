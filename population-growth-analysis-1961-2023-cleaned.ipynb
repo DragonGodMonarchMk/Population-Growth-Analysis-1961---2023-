{
 "cells": [
  {
   "cell_type": "code",
   "execution_count": null,
   "id": "85234cad",
   "metadata": {
    "_cell_guid": "b1076dfc-b9ad-4769-8c92-a6c4dae69d19",
    "_uuid": "8f2839f25d086af736a60e9eeb907d3b93b6e0e5",
    "execution": {
     "iopub.execute_input": "2024-09-10T10:23:24.343719Z",
     "iopub.status.busy": "2024-09-10T10:23:24.343184Z",
     "iopub.status.idle": "2024-09-10T10:23:27.772612Z",
     "shell.execute_reply": "2024-09-10T10:23:27.770782Z"
    },
    "papermill": {
     "duration": 3.440057,
     "end_time": "2024-09-10T10:23:27.776037",
     "exception": false,
     "start_time": "2024-09-10T10:23:24.335980",
     "status": "completed"
    },
    "tags": []
   },
   "outputs": [],
   "source": [
    "# This Python 3 environment comes with many helpful analytics libraries installed\n",
    "# It is defined by the kaggle/python Docker image: https://github.com/kaggle/docker-python\n",
    "# For example, here's several helpful packages to load\n",
    "\n",
    "import numpy as np # linear algebra\n",
    "import pandas as pd # data processing, CSV file I/O (e.g. pd.read_csv)\n",
    "import seaborn as sns\n",
    "import matplotlib.pyplot as plt\n",
    "import plotly.express as px\n",
    "\n",
    "# Input data files are available in the read-only \"../input/\" directory\n",
    "# For example, running this (by clicking run or pressing Shift+Enter) will list all files under the input directory\n",
    "\n",
    "import os\n",
    "for dirname, _, filenames in os.walk('/kaggle/input'):\n",
    "    for filename in filenames:\n",
    "        print(os.path.join(dirname, filename))\n",
    "\n",
    "# You can write up to 20GB to the current directory (/kaggle/working/) that gets preserved as output when you create a version using \"Save & Run All\" \n",
    "# You can also write temporary files to /kaggle/temp/, but they won't be saved outside of the current session"
   ]
  },
  {
   "cell_type": "code",
   "execution_count": null,
   "id": "8f5e2f60",
   "metadata": {
    "execution": {
     "iopub.execute_input": "2024-09-10T10:23:27.788605Z",
     "iopub.status.busy": "2024-09-10T10:23:27.787890Z",
     "iopub.status.idle": "2024-09-10T10:23:27.867400Z",
     "shell.execute_reply": "2024-09-10T10:23:27.866128Z"
    },
    "papermill": {
     "duration": 0.089154,
     "end_time": "2024-09-10T10:23:27.870401",
     "exception": false,
     "start_time": "2024-09-10T10:23:27.781247",
     "status": "completed"
    },
    "tags": []
   },
   "outputs": [],
   "source": [
    "df = pd.read_csv(r\"C:\\Users\\dell\\Downloads\\Population Growth Analysis\\Population Data.csv\")\n",
    "df.head()"
   ]
  },
  {
   "cell_type": "code",
   "execution_count": null,
   "id": "eecb9c1b",
   "metadata": {
    "execution": {
     "iopub.execute_input": "2024-09-10T10:23:27.883030Z",
     "iopub.status.busy": "2024-09-10T10:23:27.882616Z",
     "iopub.status.idle": "2024-09-10T10:23:27.914566Z",
     "shell.execute_reply": "2024-09-10T10:23:27.913166Z"
    },
    "papermill": {
     "duration": 0.041957,
     "end_time": "2024-09-10T10:23:27.917848",
     "exception": false,
     "start_time": "2024-09-10T10:23:27.875891",
     "status": "completed"
    },
    "tags": []
   },
   "outputs": [],
   "source": [
    "df.info()"
   ]
  },
  {
   "cell_type": "code",
   "execution_count": null,
   "id": "d5b3617b",
   "metadata": {
    "execution": {
     "iopub.execute_input": "2024-09-10T10:23:27.931037Z",
     "iopub.status.busy": "2024-09-10T10:23:27.930596Z",
     "iopub.status.idle": "2024-09-10T10:23:27.970724Z",
     "shell.execute_reply": "2024-09-10T10:23:27.969533Z"
    },
    "papermill": {
     "duration": 0.050346,
     "end_time": "2024-09-10T10:23:27.973721",
     "exception": false,
     "start_time": "2024-09-10T10:23:27.923375",
     "status": "completed"
    },
    "tags": []
   },
   "outputs": [],
   "source": [
    "df[df.isna()]"
   ]
  },
  {
   "cell_type": "code",
   "execution_count": null,
   "id": "82b948b5",
   "metadata": {
    "execution": {
     "iopub.execute_input": "2024-09-10T10:23:27.988469Z",
     "iopub.status.busy": "2024-09-10T10:23:27.987971Z",
     "iopub.status.idle": "2024-09-10T10:23:28.006729Z",
     "shell.execute_reply": "2024-09-10T10:23:28.005477Z"
    },
    "papermill": {
     "duration": 0.029311,
     "end_time": "2024-09-10T10:23:28.009647",
     "exception": false,
     "start_time": "2024-09-10T10:23:27.980336",
     "status": "completed"
    },
    "tags": []
   },
   "outputs": [],
   "source": [
    "df = df.dropna()\n",
    "df.info()"
   ]
  },
  {
   "cell_type": "code",
   "execution_count": null,
   "id": "43fb9d5e",
   "metadata": {
    "execution": {
     "iopub.execute_input": "2024-09-10T10:23:28.024543Z",
     "iopub.status.busy": "2024-09-10T10:23:28.023995Z",
     "iopub.status.idle": "2024-09-10T10:23:28.183510Z",
     "shell.execute_reply": "2024-09-10T10:23:28.182162Z"
    },
    "papermill": {
     "duration": 0.169983,
     "end_time": "2024-09-10T10:23:28.186372",
     "exception": false,
     "start_time": "2024-09-10T10:23:28.016389",
     "status": "completed"
    },
    "tags": []
   },
   "outputs": [],
   "source": [
    "df.describe()"
   ]
  },
  {
   "cell_type": "code",
   "execution_count": null,
   "id": "b2e60c32",
   "metadata": {
    "execution": {
     "iopub.execute_input": "2024-09-10T10:23:28.202214Z",
     "iopub.status.busy": "2024-09-10T10:23:28.201665Z",
     "iopub.status.idle": "2024-09-10T10:23:28.233729Z",
     "shell.execute_reply": "2024-09-10T10:23:28.232173Z"
    },
    "papermill": {
     "duration": 0.043783,
     "end_time": "2024-09-10T10:23:28.237065",
     "exception": false,
     "start_time": "2024-09-10T10:23:28.193282",
     "status": "completed"
    },
    "tags": []
   },
   "outputs": [],
   "source": [
    "df.rename(columns = {'Country Name':'Country_Name', 'Country Code':'Country_Code'}, inplace=True)\n",
    "df.head()"
   ]
  },
  {
   "cell_type": "code",
   "execution_count": null,
   "id": "7eb92ed6",
   "metadata": {
    "execution": {
     "iopub.execute_input": "2024-09-10T10:23:28.253927Z",
     "iopub.status.busy": "2024-09-10T10:23:28.253445Z",
     "iopub.status.idle": "2024-09-10T10:23:51.254937Z",
     "shell.execute_reply": "2024-09-10T10:23:51.253802Z"
    },
    "papermill": {
     "duration": 23.013472,
     "end_time": "2024-09-10T10:23:51.258063",
     "exception": false,
     "start_time": "2024-09-10T10:23:28.244591",
     "status": "completed"
    },
    "tags": []
   },
   "outputs": [],
   "source": [
    "for col in df:\n",
    "    if col != 'Country_Name' and col != 'Country_Code':\n",
    "        sns.histplot(x=col, data=df, kde=True)\n",
    "        plt.show()        "
   ]
  },
  {
   "cell_type": "code",
   "execution_count": null,
   "id": "e5fe9a33",
   "metadata": {
    "execution": {
     "iopub.execute_input": "2024-09-10T10:23:51.354649Z",
     "iopub.status.busy": "2024-09-10T10:23:51.353854Z",
     "iopub.status.idle": "2024-09-10T10:23:51.384913Z",
     "shell.execute_reply": "2024-09-10T10:23:51.383555Z"
    },
    "papermill": {
     "duration": 0.081424,
     "end_time": "2024-09-10T10:23:51.387782",
     "exception": false,
     "start_time": "2024-09-10T10:23:51.306358",
     "status": "completed"
    },
    "tags": []
   },
   "outputs": [],
   "source": [
    "df_T = df.drop('Country_Code', axis=1).rename(columns={'Country_Name':'Year'}).T\n",
    "df_T.columns = df_T.iloc[0]\n",
    "df_T.drop(df_T.index[0], inplace=True)\n",
    "df_T.head()"
   ]
  },
  {
   "cell_type": "code",
   "execution_count": null,
   "id": "b01c4e4b",
   "metadata": {
    "execution": {
     "iopub.execute_input": "2024-09-10T10:23:51.488045Z",
     "iopub.status.busy": "2024-09-10T10:23:51.487471Z",
     "iopub.status.idle": "2024-09-10T10:28:09.887275Z",
     "shell.execute_reply": "2024-09-10T10:28:09.885851Z"
    },
    "papermill": {
     "duration": 258.453219,
     "end_time": "2024-09-10T10:28:09.890208",
     "exception": false,
     "start_time": "2024-09-10T10:23:51.436989",
     "status": "completed"
    },
    "tags": []
   },
   "outputs": [],
   "source": [
    "for col in df_T:\n",
    "    plt.figure(figsize=(10,8))\n",
    "    sns.histplot(x=col, data=df_T, kde=True)\n",
    "    plt.show()\n",
    "    plt.figure(figsize=(10,8))\n",
    "    sns.lineplot(data=df_T[col])\n",
    "    plt.show() "
   ]
  },
  {
   "cell_type": "code",
   "execution_count": null,
   "id": "fedf33c2",
   "metadata": {
    "execution": {
     "iopub.execute_input": "2024-09-10T10:28:11.033363Z",
     "iopub.status.busy": "2024-09-10T10:28:11.032842Z",
     "iopub.status.idle": "2024-09-10T10:28:13.727809Z",
     "shell.execute_reply": "2024-09-10T10:28:13.726394Z"
    },
    "papermill": {
     "duration": 3.239196,
     "end_time": "2024-09-10T10:28:13.732859",
     "exception": false,
     "start_time": "2024-09-10T10:28:10.493663",
     "status": "completed"
    },
    "tags": []
   },
   "outputs": [],
   "source": [
    "Japan = df_T[['Japan']].reset_index().rename(columns={'Japan':'Growth', 'index':'Year', 'Year':'index'})\n",
    "fig = px.line(Japan, x='Year', y='Growth', title='Japan\\'s Population Change', markers=True , template = 'plotly_dark')\n",
    "fig.update_xaxes(ticks=\"outside\", dtick=1)\n",
    "fig.show()"
   ]
  }
 ],
 "metadata": {
  "kaggle": {
   "accelerator": "none",
   "dataSources": [
    {
     "datasetId": 5500127,
     "sourceId": 9112520,
     "sourceType": "datasetVersion"
    }
   ],
   "isGpuEnabled": false,
   "isInternetEnabled": true,
   "language": "python",
   "sourceType": "notebook"
  },
  "kernelspec": {
   "display_name": "Python 3",
   "language": "python",
   "name": "python3"
  },
  "language_info": {
   "codemirror_mode": {
    "name": "ipython",
    "version": 3
   },
   "file_extension": ".py",
   "mimetype": "text/x-python",
   "name": "python",
   "nbconvert_exporter": "python",
   "pygments_lexer": "ipython3",
   "version": "3.12.10"
  },
  "papermill": {
   "default_parameters": {},
   "duration": 294.296944,
   "end_time": "2024-09-10T10:28:15.293808",
   "environment_variables": {},
   "exception": null,
   "input_path": "__notebook__.ipynb",
   "output_path": "__notebook__.ipynb",
   "parameters": {},
   "start_time": "2024-09-10T10:23:20.996864",
   "version": "2.6.0"
  }
 },
 "nbformat": 4,
 "nbformat_minor": 5
}
